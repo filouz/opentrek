{
    "nbformat": 4,
    "nbformat_minor": 0,
    "metadata": {
      "colab": {
        "provenance": []
      },
      "kernelspec": {
        "name": "python3",
        "display_name": "Python 3"
      },
      "language_info": {
        "name": "python"
      }
    },
    "cells": [
      {
        "cell_type": "code",
        "source": [
          "!apt update -y\n",
          "!apt install -y postgis"
        ],
        "metadata": {
          "id": "maPSLKtuE_Pu",
          "colab": {
            "base_uri": "https://localhost:8080/"
          },
          "outputId": "99c8ab2e-fee0-4990-fd1d-d95d2df2ed2f"
        },
        "execution_count": 1,
        "outputs": [
          {
            "output_type": "stream",
            "name": "stdout",
            "text": [
              "Processing triggers for libc-bin (2.31-0ubuntu9.9) ...\n"
            ]
          }
        ]
      },
      {
        "cell_type": "code",
        "execution_count": 2,
        "metadata": {
          "id": "zKPwdV-PzSoV",
          "outputId": "e1efa38f-004c-4e4e-b603-6c249f1bf69a",
          "colab": {
            "base_uri": "https://localhost:8080/"
          }
        },
        "outputs": [
          {
            "output_type": "stream",
            "name": "stdout",
            "text": [
              "Looking in indexes: https://pypi.org/simple, https://us-python.pkg.dev/colab-wheels/public/simple/\n",
              "Requirement already satisfied: shapely in /usr/local/lib/python3.10/dist-packages (2.0.1)\n",
              "Collecting geopandas\n",
              "  Downloading geopandas-0.13.2-py3-none-any.whl (1.1 MB)\n",
              "\u001b[2K     \u001b[90m━━━━━━━━━━━━━━━━━━━━━━━━━━━━━━━━━━━━━━━━\u001b[0m \u001b[32m1.1/1.1 MB\u001b[0m \u001b[31m34.4 MB/s\u001b[0m eta \u001b[36m0:00:00\u001b[0m\n",
              "\u001b[?25hRequirement already satisfied: requests in /usr/local/lib/python3.10/dist-packages (2.27.1)\n",
              "Requirement already satisfied: numpy>=1.14 in /usr/local/lib/python3.10/dist-packages (from shapely) (1.22.4)\n",
              "Collecting fiona>=1.8.19 (from geopandas)\n",
              "  Downloading Fiona-1.9.4.post1-cp310-cp310-manylinux_2_17_x86_64.manylinux2014_x86_64.whl (16.4 MB)\n",
              "\u001b[2K     \u001b[90m━━━━━━━━━━━━━━━━━━━━━━━━━━━━━━━━━━━━━━━\u001b[0m \u001b[32m16.4/16.4 MB\u001b[0m \u001b[31m105.8 MB/s\u001b[0m eta \u001b[36m0:00:00\u001b[0m\n",
              "\u001b[?25hRequirement already satisfied: packaging in /usr/local/lib/python3.10/dist-packages (from geopandas) (23.1)\n",
              "Requirement already satisfied: pandas>=1.1.0 in /usr/local/lib/python3.10/dist-packages (from geopandas) (1.5.3)\n",
              "Collecting pyproj>=3.0.1 (from geopandas)\n",
              "  Downloading pyproj-3.6.0-cp310-cp310-manylinux_2_17_x86_64.manylinux2014_x86_64.whl (7.9 MB)\n",
              "\u001b[2K     \u001b[90m━━━━━━━━━━━━━━━━━━━━━━━━━━━━━━━━━━━━━━━━\u001b[0m \u001b[32m7.9/7.9 MB\u001b[0m \u001b[31m113.7 MB/s\u001b[0m eta \u001b[36m0:00:00\u001b[0m\n",
              "\u001b[?25hRequirement already satisfied: urllib3<1.27,>=1.21.1 in /usr/local/lib/python3.10/dist-packages (from requests) (1.26.16)\n",
              "Requirement already satisfied: certifi>=2017.4.17 in /usr/local/lib/python3.10/dist-packages (from requests) (2023.5.7)\n",
              "Requirement already satisfied: charset-normalizer~=2.0.0 in /usr/local/lib/python3.10/dist-packages (from requests) (2.0.12)\n",
              "Requirement already satisfied: idna<4,>=2.5 in /usr/local/lib/python3.10/dist-packages (from requests) (3.4)\n",
              "Requirement already satisfied: attrs>=19.2.0 in /usr/local/lib/python3.10/dist-packages (from fiona>=1.8.19->geopandas) (23.1.0)\n",
              "Requirement already satisfied: click~=8.0 in /usr/local/lib/python3.10/dist-packages (from fiona>=1.8.19->geopandas) (8.1.3)\n",
              "Collecting click-plugins>=1.0 (from fiona>=1.8.19->geopandas)\n",
              "  Downloading click_plugins-1.1.1-py2.py3-none-any.whl (7.5 kB)\n",
              "Collecting cligj>=0.5 (from fiona>=1.8.19->geopandas)\n",
              "  Downloading cligj-0.7.2-py3-none-any.whl (7.1 kB)\n",
              "Requirement already satisfied: six in /usr/local/lib/python3.10/dist-packages (from fiona>=1.8.19->geopandas) (1.16.0)\n",
              "Requirement already satisfied: python-dateutil>=2.8.1 in /usr/local/lib/python3.10/dist-packages (from pandas>=1.1.0->geopandas) (2.8.2)\n",
              "Requirement already satisfied: pytz>=2020.1 in /usr/local/lib/python3.10/dist-packages (from pandas>=1.1.0->geopandas) (2022.7.1)\n",
              "Installing collected packages: pyproj, cligj, click-plugins, fiona, geopandas\n",
              "Successfully installed click-plugins-1.1.1 cligj-0.7.2 fiona-1.9.4.post1 geopandas-0.13.2 pyproj-3.6.0\n"
            ]
          }
        ],
        "source": [
          "!pip install shapely geopandas requests"
        ]
      },
      {
        "cell_type": "code",
        "source": [
          "import requests\n",
          "import json\n",
          "import time\n",
          "\n",
          "start = \"2.1587391884631675,48.71051437658316\"\n",
          "end = \"2.1526631704506567,48.720160177604434\"\n",
          "\n",
          "response = requests.get(f\"http://router.project-osrm.org/route/v1/driving/{start};{end}?overview=full&geometries=geojson\")\n",
          "data = response.json()\n",
          "\n",
          "route_coordinates = data[\"routes\"][0][\"geometry\"][\"coordinates\"]\n",
          "\n",
          "data = []\n",
          "\n",
          "for coord in route_coordinates:\n",
          "    lng, lat = coord\n",
          "    data.append({\n",
          "        'lng': lng,\n",
          "        'lat': lat\n",
          "    })\n",
          "\n",
          "print(f\"Running at :\", data[:5])\n"
        ],
        "metadata": {
          "id": "eJukKa181A3P",
          "colab": {
            "base_uri": "https://localhost:8080/"
          },
          "outputId": "caccdb4f-d657-44ec-c986-5d62d2298995"
        },
        "execution_count": 6,
        "outputs": [
          {
            "output_type": "execute_result",
            "data": {
              "text/plain": [
                "[(2.158691, 48.710585),\n",
                " (2.158611, 48.710562),\n",
                " (2.158354, 48.710505),\n",
                " (2.158071, 48.710455),\n",
                " (2.157807, 48.710426)]"
              ]
            },
            "metadata": {},
            "execution_count": 6
          }
        ]
      },
      {
        "cell_type": "code",
        "source": [
          "coordinates=[]\n",
          "for entry in data:\n",
          "  coordinates.append((entry['lng'], entry['lat']))\n",
          "\n",
          "coordinates[0:5]"
        ],
        "metadata": {
          "colab": {
            "base_uri": "https://localhost:8080/"
          },
          "id": "y5sja1i624te",
          "outputId": "276b8c57-fa2f-403b-ce48-fb03dbf823e4"
        },
        "execution_count": 7,
        "outputs": [
          {
            "output_type": "execute_result",
            "data": {
              "text/plain": [
                "[(2.158691, 48.710585),\n",
                " (2.158611, 48.710562),\n",
                " (2.158354, 48.710505),\n",
                " (2.158071, 48.710455),\n",
                " (2.157807, 48.710426)]"
              ]
            },
            "metadata": {},
            "execution_count": 7
          }
        ]
      },
      {
        "cell_type": "code",
        "source": [
          "from shapely.geometry import LineString\n",
          "\n",
          "line = LineString(coordinates)\n",
          "\n",
          "line"
        ],
        "metadata": {
          "colab": {
            "base_uri": "https://localhost:8080/",
            "height": 121
          },
          "id": "gUq7IC3t4fb3",
          "outputId": "a67f5e89-a8f0-40bc-8f69-3ca8ae816599"
        },
        "execution_count": 8,
        "outputs": [
          {
            "output_type": "execute_result",
            "data": {
              "text/plain": [
                "<LINESTRING (2.159 48.711, 2.159 48.711, 2.158 48.711, 2.158 48.71, 2.158 48...>"
              ],
              "image/svg+xml": "<svg xmlns=\"http://www.w3.org/2000/svg\" xmlns:xlink=\"http://www.w3.org/1999/xlink\" width=\"100.0\" height=\"100.0\" viewBox=\"2.1458615599999997 48.70991956 0.013322880000000481 0.010714879999994764\" preserveAspectRatio=\"xMinYMin meet\"><g transform=\"matrix(1,0,0,-1,0,97.430554)\"><polyline fill=\"none\" stroke=\"#66cc99\" stroke-width=\"0.00026645760000000964\" points=\"2.158691,48.710585 2.158611,48.710562 2.158354,48.710505 2.158071,48.710455 2.157807,48.710426 2.157548,48.710416 2.156938,48.710413 2.156736,48.710418 2.156242,48.710462 2.155711,48.710478 2.155188,48.710487 2.155008,48.710489 2.15468,48.710493 2.154027,48.710496 2.15366,48.710518 2.153595,48.710521 2.153449,48.710535 2.153383,48.710542 2.153085,48.710582 2.152869,48.710616 2.152529,48.710689 2.152355,48.71073 2.152123,48.710799 2.151861,48.710873 2.151777,48.710903 2.15165,48.710948 2.151603,48.710968 2.15104,48.711217 2.150894,48.711313 2.150538,48.711522 2.150235,48.71166 2.149712,48.711993 2.149404,48.712242 2.149221,48.712355 2.149036,48.712465 2.148764,48.712592 2.14851,48.712716 2.148275,48.712832 2.148207,48.712859 2.148077,48.712918 2.147926,48.713001 2.147648,48.713107 2.147425,48.71321 2.147123,48.713366 2.146886,48.713478 2.146535,48.713658 2.146355,48.713733 2.146519,48.713892 2.146931,48.714292 2.147044,48.714416 2.147191,48.714577 2.147301,48.714737 2.147384,48.714849 2.147397,48.71491 2.147499,48.715011 2.149936,48.717432 2.150877,48.71835 2.151565,48.719019 2.152706,48.720141\" opacity=\"0.8\" /></g></svg>"
            },
            "metadata": {},
            "execution_count": 8
          }
        ]
      },
      {
        "cell_type": "code",
        "source": [
          "import geopandas as gpd\n",
          "from shapely.geometry import Point\n",
          "\n",
          "gdf_points = gpd.GeoDataFrame(geometry=[Point(xy) for xy in coordinates], crs='EPSG:4326')\n",
          "\n",
          "gdf_points.head()"
        ],
        "metadata": {
          "colab": {
            "base_uri": "https://localhost:8080/",
            "height": 206
          },
          "id": "U-yMXLtb4nzL",
          "outputId": "8ee2ddde-1ff8-417a-f238-1f24e69accae"
        },
        "execution_count": 9,
        "outputs": [
          {
            "output_type": "execute_result",
            "data": {
              "text/plain": [
                "                   geometry\n",
                "0  POINT (2.15869 48.71059)\n",
                "1  POINT (2.15861 48.71056)\n",
                "2  POINT (2.15835 48.71050)\n",
                "3  POINT (2.15807 48.71046)\n",
                "4  POINT (2.15781 48.71043)"
              ],
              "text/html": [
                "\n",
                "  <div id=\"df-b76e5888-e934-4056-8dd0-e825221d7524\">\n",
                "    <div class=\"colab-df-container\">\n",
                "      <div>\n",
                "<style scoped>\n",
                "    .dataframe tbody tr th:only-of-type {\n",
                "        vertical-align: middle;\n",
                "    }\n",
                "\n",
                "    .dataframe tbody tr th {\n",
                "        vertical-align: top;\n",
                "    }\n",
                "\n",
                "    .dataframe thead th {\n",
                "        text-align: right;\n",
                "    }\n",
                "</style>\n",
                "<table border=\"1\" class=\"dataframe\">\n",
                "  <thead>\n",
                "    <tr style=\"text-align: right;\">\n",
                "      <th></th>\n",
                "      <th>geometry</th>\n",
                "    </tr>\n",
                "  </thead>\n",
                "  <tbody>\n",
                "    <tr>\n",
                "      <th>0</th>\n",
                "      <td>POINT (2.15869 48.71059)</td>\n",
                "    </tr>\n",
                "    <tr>\n",
                "      <th>1</th>\n",
                "      <td>POINT (2.15861 48.71056)</td>\n",
                "    </tr>\n",
                "    <tr>\n",
                "      <th>2</th>\n",
                "      <td>POINT (2.15835 48.71050)</td>\n",
                "    </tr>\n",
                "    <tr>\n",
                "      <th>3</th>\n",
                "      <td>POINT (2.15807 48.71046)</td>\n",
                "    </tr>\n",
                "    <tr>\n",
                "      <th>4</th>\n",
                "      <td>POINT (2.15781 48.71043)</td>\n",
                "    </tr>\n",
                "  </tbody>\n",
                "</table>\n",
                "</div>\n",
                "      <button class=\"colab-df-convert\" onclick=\"convertToInteractive('df-b76e5888-e934-4056-8dd0-e825221d7524')\"\n",
                "              title=\"Convert this dataframe to an interactive table.\"\n",
                "              style=\"display:none;\">\n",
                "        \n",
                "  <svg xmlns=\"http://www.w3.org/2000/svg\" height=\"24px\"viewBox=\"0 0 24 24\"\n",
                "       width=\"24px\">\n",
                "    <path d=\"M0 0h24v24H0V0z\" fill=\"none\"/>\n",
                "    <path d=\"M18.56 5.44l.94 2.06.94-2.06 2.06-.94-2.06-.94-.94-2.06-.94 2.06-2.06.94zm-11 1L8.5 8.5l.94-2.06 2.06-.94-2.06-.94L8.5 2.5l-.94 2.06-2.06.94zm10 10l.94 2.06.94-2.06 2.06-.94-2.06-.94-.94-2.06-.94 2.06-2.06.94z\"/><path d=\"M17.41 7.96l-1.37-1.37c-.4-.4-.92-.59-1.43-.59-.52 0-1.04.2-1.43.59L10.3 9.45l-7.72 7.72c-.78.78-.78 2.05 0 2.83L4 21.41c.39.39.9.59 1.41.59.51 0 1.02-.2 1.41-.59l7.78-7.78 2.81-2.81c.8-.78.8-2.07 0-2.86zM5.41 20L4 18.59l7.72-7.72 1.47 1.35L5.41 20z\"/>\n",
                "  </svg>\n",
                "      </button>\n",
                "      \n",
                "  <style>\n",
                "    .colab-df-container {\n",
                "      display:flex;\n",
                "      flex-wrap:wrap;\n",
                "      gap: 12px;\n",
                "    }\n",
                "\n",
                "    .colab-df-convert {\n",
                "      background-color: #E8F0FE;\n",
                "      border: none;\n",
                "      border-radius: 50%;\n",
                "      cursor: pointer;\n",
                "      display: none;\n",
                "      fill: #1967D2;\n",
                "      height: 32px;\n",
                "      padding: 0 0 0 0;\n",
                "      width: 32px;\n",
                "    }\n",
                "\n",
                "    .colab-df-convert:hover {\n",
                "      background-color: #E2EBFA;\n",
                "      box-shadow: 0px 1px 2px rgba(60, 64, 67, 0.3), 0px 1px 3px 1px rgba(60, 64, 67, 0.15);\n",
                "      fill: #174EA6;\n",
                "    }\n",
                "\n",
                "    [theme=dark] .colab-df-convert {\n",
                "      background-color: #3B4455;\n",
                "      fill: #D2E3FC;\n",
                "    }\n",
                "\n",
                "    [theme=dark] .colab-df-convert:hover {\n",
                "      background-color: #434B5C;\n",
                "      box-shadow: 0px 1px 3px 1px rgba(0, 0, 0, 0.15);\n",
                "      filter: drop-shadow(0px 1px 2px rgba(0, 0, 0, 0.3));\n",
                "      fill: #FFFFFF;\n",
                "    }\n",
                "  </style>\n",
                "\n",
                "      <script>\n",
                "        const buttonEl =\n",
                "          document.querySelector('#df-b76e5888-e934-4056-8dd0-e825221d7524 button.colab-df-convert');\n",
                "        buttonEl.style.display =\n",
                "          google.colab.kernel.accessAllowed ? 'block' : 'none';\n",
                "\n",
                "        async function convertToInteractive(key) {\n",
                "          const element = document.querySelector('#df-b76e5888-e934-4056-8dd0-e825221d7524');\n",
                "          const dataTable =\n",
                "            await google.colab.kernel.invokeFunction('convertToInteractive',\n",
                "                                                     [key], {});\n",
                "          if (!dataTable) return;\n",
                "\n",
                "          const docLinkHtml = 'Like what you see? Visit the ' +\n",
                "            '<a target=\"_blank\" href=https://colab.research.google.com/notebooks/data_table.ipynb>data table notebook</a>'\n",
                "            + ' to learn more about interactive tables.';\n",
                "          element.innerHTML = '';\n",
                "          dataTable['output_type'] = 'display_data';\n",
                "          await google.colab.output.renderOutput(dataTable, element);\n",
                "          const docLink = document.createElement('div');\n",
                "          docLink.innerHTML = docLinkHtml;\n",
                "          element.appendChild(docLink);\n",
                "        }\n",
                "      </script>\n",
                "    </div>\n",
                "  </div>\n",
                "  "
              ]
            },
            "metadata": {},
            "execution_count": 9
          }
        ]
      },
      {
        "cell_type": "code",
        "source": [
          "!mkdir -p points/\n",
          "gdf_points.to_file('points/poc_points.shp')"
        ],
        "metadata": {
          "id": "V3Cl3F6IFavy"
        },
        "execution_count": 10,
        "outputs": []
      },
      {
        "cell_type": "code",
        "source": [
          "!psql -h postgis -d pocdb -U postgres -c \"CREATE SCHEMA track;\""
        ],
        "metadata": {
          "colab": {
            "base_uri": "https://localhost:8080/"
          },
          "id": "nDtp_x8jG5RU",
          "outputId": "ae220ff7-2f30-4110-9881-66d2fe34e46f"
        },
        "execution_count": 11,
        "outputs": [
          {
            "output_type": "stream",
            "name": "stdout",
            "text": [
              "CREATE SCHEMA\n"
            ]
          }
        ]
      },
      {
        "cell_type": "code",
        "source": [
          "!shp2pgsql -I -s 4326 'points/poc_points.shp' track.route_points | psql -h postgis -d pocdb -U postgres"
        ],
        "metadata": {
          "id": "DdUSg1aJFeMl"
        },
        "execution_count": null,
        "outputs": []
      },
      {
        "cell_type": "code",
        "source": [
          "gdf_lines = gpd.GeoDataFrame(geometry=[line], crs='EPSG:4326')\n",
          "\n",
          "gdf_lines.head()"
        ],
        "metadata": {
          "colab": {
            "base_uri": "https://localhost:8080/",
            "height": 81
          },
          "id": "1xtyKFM6FF9z",
          "outputId": "4e1a4e43-cbf5-4bfc-9883-bd58a293bb51"
        },
        "execution_count": 13,
        "outputs": [
          {
            "output_type": "execute_result",
            "data": {
              "text/plain": [
                "                                            geometry\n",
                "0  LINESTRING (2.15869 48.71059, 2.15861 48.71056..."
              ],
              "text/html": [
                "\n",
                "  <div id=\"df-dbe51740-964d-4b13-9005-d320a6d205f1\">\n",
                "    <div class=\"colab-df-container\">\n",
                "      <div>\n",
                "<style scoped>\n",
                "    .dataframe tbody tr th:only-of-type {\n",
                "        vertical-align: middle;\n",
                "    }\n",
                "\n",
                "    .dataframe tbody tr th {\n",
                "        vertical-align: top;\n",
                "    }\n",
                "\n",
                "    .dataframe thead th {\n",
                "        text-align: right;\n",
                "    }\n",
                "</style>\n",
                "<table border=\"1\" class=\"dataframe\">\n",
                "  <thead>\n",
                "    <tr style=\"text-align: right;\">\n",
                "      <th></th>\n",
                "      <th>geometry</th>\n",
                "    </tr>\n",
                "  </thead>\n",
                "  <tbody>\n",
                "    <tr>\n",
                "      <th>0</th>\n",
                "      <td>LINESTRING (2.15869 48.71059, 2.15861 48.71056...</td>\n",
                "    </tr>\n",
                "  </tbody>\n",
                "</table>\n",
                "</div>\n",
                "      <button class=\"colab-df-convert\" onclick=\"convertToInteractive('df-dbe51740-964d-4b13-9005-d320a6d205f1')\"\n",
                "              title=\"Convert this dataframe to an interactive table.\"\n",
                "              style=\"display:none;\">\n",
                "        \n",
                "  <svg xmlns=\"http://www.w3.org/2000/svg\" height=\"24px\"viewBox=\"0 0 24 24\"\n",
                "       width=\"24px\">\n",
                "    <path d=\"M0 0h24v24H0V0z\" fill=\"none\"/>\n",
                "    <path d=\"M18.56 5.44l.94 2.06.94-2.06 2.06-.94-2.06-.94-.94-2.06-.94 2.06-2.06.94zm-11 1L8.5 8.5l.94-2.06 2.06-.94-2.06-.94L8.5 2.5l-.94 2.06-2.06.94zm10 10l.94 2.06.94-2.06 2.06-.94-2.06-.94-.94-2.06-.94 2.06-2.06.94z\"/><path d=\"M17.41 7.96l-1.37-1.37c-.4-.4-.92-.59-1.43-.59-.52 0-1.04.2-1.43.59L10.3 9.45l-7.72 7.72c-.78.78-.78 2.05 0 2.83L4 21.41c.39.39.9.59 1.41.59.51 0 1.02-.2 1.41-.59l7.78-7.78 2.81-2.81c.8-.78.8-2.07 0-2.86zM5.41 20L4 18.59l7.72-7.72 1.47 1.35L5.41 20z\"/>\n",
                "  </svg>\n",
                "      </button>\n",
                "      \n",
                "  <style>\n",
                "    .colab-df-container {\n",
                "      display:flex;\n",
                "      flex-wrap:wrap;\n",
                "      gap: 12px;\n",
                "    }\n",
                "\n",
                "    .colab-df-convert {\n",
                "      background-color: #E8F0FE;\n",
                "      border: none;\n",
                "      border-radius: 50%;\n",
                "      cursor: pointer;\n",
                "      display: none;\n",
                "      fill: #1967D2;\n",
                "      height: 32px;\n",
                "      padding: 0 0 0 0;\n",
                "      width: 32px;\n",
                "    }\n",
                "\n",
                "    .colab-df-convert:hover {\n",
                "      background-color: #E2EBFA;\n",
                "      box-shadow: 0px 1px 2px rgba(60, 64, 67, 0.3), 0px 1px 3px 1px rgba(60, 64, 67, 0.15);\n",
                "      fill: #174EA6;\n",
                "    }\n",
                "\n",
                "    [theme=dark] .colab-df-convert {\n",
                "      background-color: #3B4455;\n",
                "      fill: #D2E3FC;\n",
                "    }\n",
                "\n",
                "    [theme=dark] .colab-df-convert:hover {\n",
                "      background-color: #434B5C;\n",
                "      box-shadow: 0px 1px 3px 1px rgba(0, 0, 0, 0.15);\n",
                "      filter: drop-shadow(0px 1px 2px rgba(0, 0, 0, 0.3));\n",
                "      fill: #FFFFFF;\n",
                "    }\n",
                "  </style>\n",
                "\n",
                "      <script>\n",
                "        const buttonEl =\n",
                "          document.querySelector('#df-dbe51740-964d-4b13-9005-d320a6d205f1 button.colab-df-convert');\n",
                "        buttonEl.style.display =\n",
                "          google.colab.kernel.accessAllowed ? 'block' : 'none';\n",
                "\n",
                "        async function convertToInteractive(key) {\n",
                "          const element = document.querySelector('#df-dbe51740-964d-4b13-9005-d320a6d205f1');\n",
                "          const dataTable =\n",
                "            await google.colab.kernel.invokeFunction('convertToInteractive',\n",
                "                                                     [key], {});\n",
                "          if (!dataTable) return;\n",
                "\n",
                "          const docLinkHtml = 'Like what you see? Visit the ' +\n",
                "            '<a target=\"_blank\" href=https://colab.research.google.com/notebooks/data_table.ipynb>data table notebook</a>'\n",
                "            + ' to learn more about interactive tables.';\n",
                "          element.innerHTML = '';\n",
                "          dataTable['output_type'] = 'display_data';\n",
                "          await google.colab.output.renderOutput(dataTable, element);\n",
                "          const docLink = document.createElement('div');\n",
                "          docLink.innerHTML = docLinkHtml;\n",
                "          element.appendChild(docLink);\n",
                "        }\n",
                "      </script>\n",
                "    </div>\n",
                "  </div>\n",
                "  "
              ]
            },
            "metadata": {},
            "execution_count": 13
          }
        ]
      },
      {
        "cell_type": "code",
        "source": [
          "!mkdir -p lines/\n",
          "gdf_lines.to_file('lines/poc_lines.shp')"
        ],
        "metadata": {
          "id": "zvq1sI1VJBuk"
        },
        "execution_count": 14,
        "outputs": []
      },
      {
        "cell_type": "code",
        "source": [
          "!shp2pgsql -I -s 4326 'lines/poc_lines.shp' track.route_lines | psql -h postgis -d pocdb -U postgres"
        ],
        "metadata": {
          "colab": {
            "base_uri": "https://localhost:8080/"
          },
          "id": "axEyHj09L79P",
          "outputId": "2035fe2a-bbec-45e7-f514-8d13e5511fb3"
        },
        "execution_count": 15,
        "outputs": [
          {
            "output_type": "stream",
            "name": "stdout",
            "text": [
              "Field fid is an FTDouble with width 11 and precision 0\n",
              "Shapefile type: Arc\n",
              "Postgis type: MULTILINESTRING[2]\n",
              "SET\n",
              "SET\n",
              "BEGIN\n",
              "CREATE TABLE\n",
              "ALTER TABLE\n",
              "                       addgeometrycolumn                       \n",
              "---------------------------------------------------------------\n",
              " track.route_lines.geom SRID:4326 TYPE:MULTILINESTRING DIMS:2 \n",
              "(1 row)\n",
              "\n",
              "INSERT 0 1\n",
              "CREATE INDEX\n",
              "COMMIT\n",
              "ANALYZE\n"
            ]
          }
        ]
      },
      {
        "cell_type": "code",
        "source": [
          "!psql -h postgis -d pocdb -U postgres -c \"SELECT gid, geom FROM track.route_lines;\""
        ],
        "metadata": {
          "colab": {
            "base_uri": "https://localhost:8080/"
          },
          "id": "HZN4CsryVKzE",
          "outputId": "192b6354-62bf-474e-bfb4-bf879f888558"
        },
        "execution_count": 16,
        "outputs": [
          {
            "output_type": "stream",
            "name": "stdout",
            "text": [
              " gid |                                                                                                                                                                                                                                                                                                                                                                                                                                                                                                                                                                                                                                                                                                                                                                                                                                                                                                                                                                                                     geom                                                                                                                                                                                                                                                                                                                                                                                                                                                                                                                                                                                                                                                                                                                                                                                                                                                                                                                                                                                                     \n",
              "-----+--------------------------------------------------------------------------------------------------------------------------------------------------------------------------------------------------------------------------------------------------------------------------------------------------------------------------------------------------------------------------------------------------------------------------------------------------------------------------------------------------------------------------------------------------------------------------------------------------------------------------------------------------------------------------------------------------------------------------------------------------------------------------------------------------------------------------------------------------------------------------------------------------------------------------------------------------------------------------------------------------------------------------------------------------------------------------------------------------------------------------------------------------------------------------------------------------------------------------------------------------------------------------------------------------------------------------------------------------------------------------------------------------------------------------------------------------------------------------------------------------------------------------------------------------------------------------------------------------------------------------------------------------------------------------------------------------------------------------------------------------------------------------------------------------------------------------------------------------------------------------------------------------------------------------------------------------------------------------------------------------------------\n",
              "   1 | 0105000020E61000000100000001020000003B000000365B79C9FF4401409B030473F45A48406F490ED8D5440140E3E313B2F35A4840BA86191A4F4401407E52EDD3F15A484071917BBABA430140CD237F30F05A484094A3005130430140321D3A3DEF5A4840D3669C86A84201400F4757E9EE5A484047FFCBB5684101409ED32CD0EE5A4840CBD8D0CDFE400140AF3E1EFAEE5A4840D31742CEFB3F01407F86376BF05A48400805A568E53E014085436FF1F05A48406ADAC534D33D0140D89DEE3CF15A48406BF294D5743D01407995B54DF15A484022C32ADEC83C0140BA84436FF15A4840A29BFD81723B01402BF86D88F15A48407BA01518B23A0140139CFA40F25A48400AA2EE03903A0140840F255AF25A4840CCD42478433A0140E9D495CFF25A48405419C6DD203A01409B374E0AF35A4840B610E4A0843901402A90D959F45A4840EA93DC6113390140D6011077F55A48405D88D51F6138014040506EDBF75A4840800EF3E5053801409E245D33F95A484059C16F438C370140C7832D76FB5A4840874D64E602370140014EEFE2FD5A4840AA471ADCD63601406CD097DEFE5A4840D8817346943601400C941458005B4840CDCD37A27B3601405340DAFF005B48404C1AA37554350140FBAD9D28095B48400E4DD9E9073501401D1CEC4D0C5B4840267156444D34014038312427135B48406BB75D68AE33014089EFC4AC175B4840CE8C7E349C3201408FFD2C96225B4840F7216FB9FA310140386BF0BE2A5B4840E60297C79A3101403012DA722E5B4840CB694FC939310140B745990D325B4840C093162EAB30014014B2F336365B48401C08C9022630014000AB23473A5B4840E4839ECDAA2F014069C537143E5B4840624ED026872F014063D4B5F63E5B48407E5182FE422F0140685DA3E5405B484024D3A1D3F32E0140F581E49D435B4840F78E1A13622E01403BC61517475B484004E78C28ED2D01400F971C774A5B48404FEACBD24E2D0140070ABC934F5B48400BEC3191D22C01402F35423F535B484040C1C58A1A2C0140AF433525595B484040D9942BBC2B0140B9895A9A5B5B4840E5F04927122C0140227024D0605B48400B26FE28EA2C0140B0E595EB6D5B48408E959867252D01409CDEC5FB715B4840D11F9A79722D0140A5BC5642775B484043588D25AC2D0140DE1E84807C5B48401BA19FA9D72D0140064A0A2C805B4840643A747ADE2D0140ACCABE2B825B4840A88AA9F4132E0140DFA3FE7A855B4840C7F143A5113301404C8DD0CFD45B4840ADBF2500FF340140728A8EE4F25B4840F5BEF1B567360140F01989D0085C48404B395FECBD3801401EC18D942D5C4840\n",
              "(1 row)\n",
              "\n"
            ]
          }
        ]
      },
      {
        "cell_type": "code",
        "source": [
          "!psql -h postgis -d pocdb -U postgres -c \"SELECT DISTINCT ST_GeometryType(geom) FROM track.route_lines;\""
        ],
        "metadata": {
          "colab": {
            "base_uri": "https://localhost:8080/"
          },
          "id": "koL2fBCxLrbd",
          "outputId": "3d850615-aeb3-4cd0-a2fc-3ee5253ef3b0"
        },
        "execution_count": 17,
        "outputs": [
          {
            "output_type": "stream",
            "name": "stdout",
            "text": [
              "  st_geometrytype   \n",
              "--------------------\n",
              " ST_MultiLineString\n",
              "(1 row)\n",
              "\n"
            ]
          }
        ]
      }
    ]
  }